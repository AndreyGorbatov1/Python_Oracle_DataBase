{
 "cells": [
  {
   "cell_type": "code",
   "execution_count": 1,
   "metadata": {},
   "outputs": [],
   "source": [
    "import numpy as np\n",
    "import pandas as pd\n",
    "import matplotlib.pyplot as plt\n",
    "import random\n",
    "import cx_Oracle\n",
    "import csv\n",
    "# coding: cp1251"
   ]
  },
  {
   "cell_type": "code",
   "execution_count": 2,
   "metadata": {},
   "outputs": [],
   "source": [
    "#the only way to feed him dates\n",
    "#to_date('01-04-2019','DD.MM.YYYY HH24:MI:SS') "
   ]
  },
  {
   "cell_type": "code",
   "execution_count": null,
   "metadata": {},
   "outputs": [],
   "source": [
    "oracleConnection = cx_Oracle.connect(user=r'%username%', \n",
    "                                      password=r'%userpassword', \n",
    "                                      dsn=cx_Oracle.makedsn(r'  ', \n",
    "                                                            r'  ', \n",
    "                                                            service_name=r'   ),\n",
    "                                      encoding = r'utf-8')\n",
    "query = u\"\"\"\n",
    "\n",
    "select * from table\n",
    "\n",
    "\n",
    "\"\"\"\n",
    "\n",
    "\n",
    "a = pd.read_sql(query, con = oracleConnection)\n",
    "oracleConnection.close()\n",
    "\n",
    "a.info() "
   ]
  },
  {
   "cell_type": "code",
   "execution_count": 9,
   "metadata": {},
   "outputs": [],
   "source": [
    "a.to_csv('test.csv',  encoding=\"cp1251\", decimal=\",\")"
   ]
  },
  {
   "cell_type": "code",
   "execution_count": null,
   "metadata": {},
   "outputs": [],
   "source": []
  }
 ],
 "metadata": {
  "kernelspec": {
   "display_name": "Python 3",
   "language": "python",
   "name": "python3"
  },
  "language_info": {
   "codemirror_mode": {
    "name": "ipython",
    "version": 3
   },
   "file_extension": ".py",
   "mimetype": "text/x-python",
   "name": "python",
   "nbconvert_exporter": "python",
   "pygments_lexer": "ipython3",
   "version": "3.7.0"
  }
 },
 "nbformat": 4,
 "nbformat_minor": 2
}
